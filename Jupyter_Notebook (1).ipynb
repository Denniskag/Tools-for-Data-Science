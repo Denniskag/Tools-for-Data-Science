{
  "cells": [
    {
      "cell_type": "markdown",
      "metadata": {
        "id": "RyRbF9a4w6zQ"
      },
      "source": [
        "<center>\n",
        "    <img src=\"https://s3-api.us-geo.objectstorage.softlayer.net/cf-courses-data/CognitiveClass/Logos/organization_logo/organization_logo.png\" width=\"300\" alt=\"cognitiveclass.ai logo\"  />\n",
        "</center>\n"
      ]
    },
    {
      "cell_type": "markdown",
      "metadata": {
        "id": "EBTW2HQTw6zg"
      },
      "source": [
        "# My Jupyter notebook on IBM Watson Studio\n"
      ]
    },
    {
      "cell_type": "markdown",
      "source": [
        "__Dennis__\n",
        "\n",
        "Data Scientist"
      ],
      "metadata": {
        "id": "J1AnWXlpybFY"
      }
    },
    {
      "cell_type": "markdown",
      "source": [
        "_Iam interested in data science because of my desire to develop improved data driven decision making and open up new possibilities to boost healthcare quality._"
      ],
      "metadata": {
        "id": "bH86SUm-yiU4"
      }
    },
    {
      "cell_type": "markdown",
      "source": [
        "### Code to print Watson Studio"
      ],
      "metadata": {
        "id": "kw553xuFypNU"
      }
    },
    {
      "cell_type": "code",
      "source": [
        "print('Watson Studio')"
      ],
      "metadata": {
        "colab": {
          "base_uri": "https://localhost:8080/"
        },
        "id": "XB8rVDkvyi3Y",
        "outputId": "369259ad-5c49-4b16-f495-b4a120e2d334"
      },
      "execution_count": 2,
      "outputs": [
        {
          "output_type": "stream",
          "name": "stdout",
          "text": [
            "Watson Studio\n"
          ]
        }
      ]
    },
    {
      "cell_type": "markdown",
      "source": [
        "-  [blue, green yellow]\n",
        "\n",
        "5. [Python, R, Java]\n",
        "\n",
        "***"
      ],
      "metadata": {
        "id": "sJiW2dKHyyf6"
      }
    }
  ],
  "metadata": {
    "kernelspec": {
      "display_name": "Python 3",
      "language": "python",
      "name": "python3"
    },
    "language_info": {
      "codemirror_mode": {
        "name": "ipython",
        "version": 3
      },
      "file_extension": ".py",
      "mimetype": "text/x-python",
      "name": "python",
      "nbconvert_exporter": "python",
      "pygments_lexer": "ipython3",
      "version": "3.7.6"
    },
    "colab": {
      "name": "Jupyter_Notebook.ipynb",
      "provenance": []
    }
  },
  "nbformat": 4,
  "nbformat_minor": 0
}