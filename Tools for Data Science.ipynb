{
  "cells": [
    {
      "cell_type": "markdown",
      "id": "fa6f24d4-dfd3-4c92-a96b-bfdc62bbe807",
      "metadata": {
        "id": "fa6f24d4-dfd3-4c92-a96b-bfdc62bbe807"
      },
      "source": [
        "# My Jupyter notebook on IBM Watson Studio"
      ]
    },
    {
      "cell_type": "markdown",
      "id": "80af8527-546c-44e1-bf7b-e6f667396f72",
      "metadata": {
        "id": "80af8527-546c-44e1-bf7b-e6f667396f72"
      },
      "source": [
        "__Dennis__\n",
        "\n",
        "Data Scientist"
      ]
    },
    {
      "cell_type": "markdown",
      "id": "3008f2c3-cca2-4898-a749-440ebba41325",
      "metadata": {
        "id": "3008f2c3-cca2-4898-a749-440ebba41325"
      },
      "source": [
        "_Iam interested in data science because of my desire to develop improved data driven decision making and open up new possibilities to boost healthcare quality._"
      ]
    },
    {
      "cell_type": "markdown",
      "id": "586067cf-6749-4d51-97ac-554d4b391baf",
      "metadata": {
        "id": "586067cf-6749-4d51-97ac-554d4b391baf"
      },
      "source": [
        "### Code to print Watson Studio"
      ]
    },
    {
      "cell_type": "code",
      "execution_count": null,
      "id": "7d2e62d5-8134-4b45-aea0-520f9356e19b",
      "metadata": {
        "id": "7d2e62d5-8134-4b45-aea0-520f9356e19b",
        "outputId": "a34f2e62-870b-42ad-ebd9-de3bb3f24ca6"
      },
      "outputs": [
        {
          "name": "stdout",
          "output_type": "stream",
          "text": [
            "Watson Studio\n"
          ]
        }
      ],
      "source": [
        "print('Watson Studio')"
      ]
    },
    {
      "cell_type": "markdown",
      "id": "364649c3-b878-43a6-a9f1-1bf943b7f6d4",
      "metadata": {
        "id": "364649c3-b878-43a6-a9f1-1bf943b7f6d4"
      },
      "source": [
        "-  [blue, green yellow]\n",
        "\n",
        "5. [Python, R, Java]\n",
        "\n",
        "***"
      ]
    },
    {
      "cell_type": "markdown",
      "source": [
        "Date Today"
      ],
      "metadata": {
        "id": "cWjt9snIiRyk"
      },
      "id": "cWjt9snIiRyk"
    },
    {
      "cell_type": "code",
      "source": [
        "print('Thursday')"
      ],
      "metadata": {
        "colab": {
          "base_uri": "https://localhost:8080/"
        },
        "id": "C-2hRUSgiO4r",
        "outputId": "4fe69062-4e5b-4126-9ecd-e0c5a17252b3"
      },
      "id": "C-2hRUSgiO4r",
      "execution_count": 1,
      "outputs": [
        {
          "output_type": "stream",
          "name": "stdout",
          "text": [
            "Thursday\n"
          ]
        }
      ]
    },
    {
      "cell_type": "markdown",
      "source": [
        "Date Tomorrow"
      ],
      "metadata": {
        "id": "EDEHknSAiXvS"
      },
      "id": "EDEHknSAiXvS"
    },
    {
      "cell_type": "code",
      "source": [
        "print(\"Friday\")"
      ],
      "metadata": {
        "colab": {
          "base_uri": "https://localhost:8080/"
        },
        "id": "SHFP7__XibAo",
        "outputId": "c55c2cd2-b6ea-41f7-d410-d6296be3be93"
      },
      "id": "SHFP7__XibAo",
      "execution_count": 2,
      "outputs": [
        {
          "output_type": "stream",
          "name": "stdout",
          "text": [
            "Friday\n"
          ]
        }
      ]
    },
    {
      "cell_type": "code",
      "source": [
        "value = 'Samuel'\n",
        "print(f'{value} is my name')"
      ],
      "metadata": {
        "id": "0MWds7M9kvD8",
        "outputId": "fd4d374c-a489-43a8-da44-e1c33a061605",
        "colab": {
          "base_uri": "https://localhost:8080/"
        }
      },
      "id": "0MWds7M9kvD8",
      "execution_count": 6,
      "outputs": [
        {
          "output_type": "stream",
          "name": "stdout",
          "text": [
            "Samuel is my name\n"
          ]
        }
      ]
    }
  ],
  "metadata": {
    "kernelspec": {
      "display_name": "Python",
      "language": "python",
      "name": "conda-env-python-py"
    },
    "language_info": {
      "codemirror_mode": {
        "name": "ipython",
        "version": 3
      },
      "file_extension": ".py",
      "mimetype": "text/x-python",
      "name": "python",
      "nbconvert_exporter": "python",
      "pygments_lexer": "ipython3",
      "version": "3.7.12"
    },
    "colab": {
      "provenance": []
    }
  },
  "nbformat": 4,
  "nbformat_minor": 5
}