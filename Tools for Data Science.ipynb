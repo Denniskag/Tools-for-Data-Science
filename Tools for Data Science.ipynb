{
 "cells": [
  {
   "cell_type": "markdown",
   "id": "fa6f24d4-dfd3-4c92-a96b-bfdc62bbe807",
   "metadata": {},
   "source": [
    "# My Jupyter notebook on IBM Watson Studio"
   ]
  },
  {
   "cell_type": "markdown",
   "id": "80af8527-546c-44e1-bf7b-e6f667396f72",
   "metadata": {},
   "source": [
    "__Dennis__\n",
    "\n",
    "Data Scientist"
   ]
  },
  {
   "cell_type": "markdown",
   "id": "3008f2c3-cca2-4898-a749-440ebba41325",
   "metadata": {},
   "source": [
    "_Iam interested in data science because of my desire to develop improved data driven decision making and open up new possibilities to boost healthcare quality._"
   ]
  },
  {
   "cell_type": "markdown",
   "id": "586067cf-6749-4d51-97ac-554d4b391baf",
   "metadata": {},
   "source": [
    "### Code to print Watson Studio"
   ]
  },
  {
   "cell_type": "code",
   "execution_count": 2,
   "id": "7d2e62d5-8134-4b45-aea0-520f9356e19b",
   "metadata": {},
   "outputs": [
    {
     "name": "stdout",
     "output_type": "stream",
     "text": [
      "Watson Studio\n"
     ]
    }
   ],
   "source": [
    "print('Watson Studio')"
   ]
  },
  {
   "cell_type": "markdown",
   "id": "364649c3-b878-43a6-a9f1-1bf943b7f6d4",
   "metadata": {},
   "source": [
    "-  [blue, green yellow]\n",
    "\n",
    "5. [Python, R, Java]\n",
    "\n",
    "***"
   ]
  }
 ],
 "metadata": {
  "kernelspec": {
   "display_name": "Python",
   "language": "python",
   "name": "conda-env-python-py"
  },
  "language_info": {
   "codemirror_mode": {
    "name": "ipython",
    "version": 3
   },
   "file_extension": ".py",
   "mimetype": "text/x-python",
   "name": "python",
   "nbconvert_exporter": "python",
   "pygments_lexer": "ipython3",
   "version": "3.7.12"
  }
 },
 "nbformat": 4,
 "nbformat_minor": 5
}
